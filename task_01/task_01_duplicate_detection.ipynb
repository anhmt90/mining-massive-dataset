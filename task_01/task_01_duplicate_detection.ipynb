{
 "cells": [
  {
   "cell_type": "markdown",
   "metadata": {},
   "source": [
    "# Project task 01: Near duplicate detection with LSH"
   ]
  },
  {
   "cell_type": "code",
   "execution_count": 1,
   "metadata": {},
   "outputs": [],
   "source": [
    "import gzip\n",
    "import tarfile\n",
    "\n",
    "import numpy as np\n",
    "import pandas as pd\n",
    "import time\n",
    "\n",
    "from sklearn import preprocessing\n",
    "from collections import defaultdict\n",
    "\n",
    "import matplotlib.pyplot as plt\n",
    "%matplotlib inline"
   ]
  },
  {
   "cell_type": "markdown",
   "metadata": {},
   "source": [
    "To goal of this task is to find near duplicate songs in the Million Song dataset. You can imagine a scenario were the same song appears on multiple different releases with only small feature variation (e.g. duration or loudness)."
   ]
  },
  {
   "cell_type": "markdown",
   "metadata": {},
   "source": [
    "## 1. Load data and extract the data"
   ]
  },
  {
   "cell_type": "markdown",
   "metadata": {},
   "source": [
    "We'll be working with the Million Songs Dataset, a freely-available collection of audio features and metadata for a million contemporary popular music tracks.\n",
    "\n",
    "Specifically, we will work with a smaller subset of 10 000 songs ([download link](http://static.echonest.com/millionsongsubset_full.tar.gz))."
   ]
  },
  {
   "cell_type": "code",
   "execution_count": 2,
   "metadata": {},
   "outputs": [],
   "source": [
    "tar = tarfile.open('millionsongsubset_full.tar.gz', 'r')\n",
    "members = tar.getmembers()"
   ]
  },
  {
   "cell_type": "code",
   "execution_count": 3,
   "metadata": {},
   "outputs": [],
   "source": [
    "tar.extract(members[5])\n",
    "summary = pd.HDFStore(members[5].name)\n",
    "songs = summary['/analysis/songs']"
   ]
  },
  {
   "cell_type": "markdown",
   "metadata": {},
   "source": [
    "Show a snippet of how the data looks like:"
   ]
  },
  {
   "cell_type": "code",
   "execution_count": 4,
   "metadata": {},
   "outputs": [
    {
     "data": {
      "text/html": [
       "<div>\n",
       "<style scoped>\n",
       "    .dataframe tbody tr th:only-of-type {\n",
       "        vertical-align: middle;\n",
       "    }\n",
       "\n",
       "    .dataframe tbody tr th {\n",
       "        vertical-align: top;\n",
       "    }\n",
       "\n",
       "    .dataframe thead th {\n",
       "        text-align: right;\n",
       "    }\n",
       "</style>\n",
       "<table border=\"1\" class=\"dataframe\">\n",
       "  <thead>\n",
       "    <tr style=\"text-align: right;\">\n",
       "      <th></th>\n",
       "      <th>analysis_sample_rate</th>\n",
       "      <th>audio_md5</th>\n",
       "      <th>danceability</th>\n",
       "      <th>duration</th>\n",
       "      <th>end_of_fade_in</th>\n",
       "      <th>energy</th>\n",
       "      <th>idx_bars_confidence</th>\n",
       "      <th>idx_bars_start</th>\n",
       "      <th>idx_beats_confidence</th>\n",
       "      <th>idx_beats_start</th>\n",
       "      <th>...</th>\n",
       "      <th>key</th>\n",
       "      <th>key_confidence</th>\n",
       "      <th>loudness</th>\n",
       "      <th>mode</th>\n",
       "      <th>mode_confidence</th>\n",
       "      <th>start_of_fade_out</th>\n",
       "      <th>tempo</th>\n",
       "      <th>time_signature</th>\n",
       "      <th>time_signature_confidence</th>\n",
       "      <th>track_id</th>\n",
       "    </tr>\n",
       "  </thead>\n",
       "  <tbody>\n",
       "    <tr>\n",
       "      <th>0</th>\n",
       "      <td>22050</td>\n",
       "      <td>a600d65cf157a306be60f26ecbf218f4</td>\n",
       "      <td>0.0</td>\n",
       "      <td>280.21506</td>\n",
       "      <td>0.238</td>\n",
       "      <td>0.0</td>\n",
       "      <td>0</td>\n",
       "      <td>0</td>\n",
       "      <td>0</td>\n",
       "      <td>0</td>\n",
       "      <td>...</td>\n",
       "      <td>5</td>\n",
       "      <td>0.555</td>\n",
       "      <td>-3.306</td>\n",
       "      <td>1</td>\n",
       "      <td>0.500</td>\n",
       "      <td>275.528</td>\n",
       "      <td>173.205</td>\n",
       "      <td>5</td>\n",
       "      <td>0.120</td>\n",
       "      <td>TRACCVZ128F4291A8A</td>\n",
       "    </tr>\n",
       "    <tr>\n",
       "      <th>1</th>\n",
       "      <td>22050</td>\n",
       "      <td>c64d75b0588e5ab552ee94548b50a4fa</td>\n",
       "      <td>0.0</td>\n",
       "      <td>191.68608</td>\n",
       "      <td>0.000</td>\n",
       "      <td>0.0</td>\n",
       "      <td>0</td>\n",
       "      <td>0</td>\n",
       "      <td>0</td>\n",
       "      <td>0</td>\n",
       "      <td>...</td>\n",
       "      <td>0</td>\n",
       "      <td>0.501</td>\n",
       "      <td>-10.764</td>\n",
       "      <td>1</td>\n",
       "      <td>0.710</td>\n",
       "      <td>184.128</td>\n",
       "      <td>150.955</td>\n",
       "      <td>4</td>\n",
       "      <td>0.600</td>\n",
       "      <td>TRACCMH128F428E4CD</td>\n",
       "    </tr>\n",
       "    <tr>\n",
       "      <th>2</th>\n",
       "      <td>22050</td>\n",
       "      <td>0cadd310865701bb93ced1cd78e8910a</td>\n",
       "      <td>0.0</td>\n",
       "      <td>222.92853</td>\n",
       "      <td>0.000</td>\n",
       "      <td>0.0</td>\n",
       "      <td>0</td>\n",
       "      <td>0</td>\n",
       "      <td>0</td>\n",
       "      <td>0</td>\n",
       "      <td>...</td>\n",
       "      <td>1</td>\n",
       "      <td>0.329</td>\n",
       "      <td>-9.035</td>\n",
       "      <td>1</td>\n",
       "      <td>0.407</td>\n",
       "      <td>216.300</td>\n",
       "      <td>93.056</td>\n",
       "      <td>4</td>\n",
       "      <td>1.000</td>\n",
       "      <td>TRACCSW128F148C7C3</td>\n",
       "    </tr>\n",
       "    <tr>\n",
       "      <th>3</th>\n",
       "      <td>22050</td>\n",
       "      <td>14be4fc1170152c445b3be7b8d18dfec</td>\n",
       "      <td>0.0</td>\n",
       "      <td>278.38649</td>\n",
       "      <td>0.496</td>\n",
       "      <td>0.0</td>\n",
       "      <td>0</td>\n",
       "      <td>0</td>\n",
       "      <td>0</td>\n",
       "      <td>0</td>\n",
       "      <td>...</td>\n",
       "      <td>7</td>\n",
       "      <td>0.313</td>\n",
       "      <td>-23.095</td>\n",
       "      <td>1</td>\n",
       "      <td>0.387</td>\n",
       "      <td>278.386</td>\n",
       "      <td>127.113</td>\n",
       "      <td>1</td>\n",
       "      <td>0.446</td>\n",
       "      <td>TRACCXJ128F428F0CF</td>\n",
       "    </tr>\n",
       "    <tr>\n",
       "      <th>4</th>\n",
       "      <td>22050</td>\n",
       "      <td>1def5d8298e8cb29a188a5a7c0e9429a</td>\n",
       "      <td>0.0</td>\n",
       "      <td>89.15546</td>\n",
       "      <td>4.847</td>\n",
       "      <td>0.0</td>\n",
       "      <td>0</td>\n",
       "      <td>0</td>\n",
       "      <td>0</td>\n",
       "      <td>0</td>\n",
       "      <td>...</td>\n",
       "      <td>2</td>\n",
       "      <td>0.000</td>\n",
       "      <td>-20.359</td>\n",
       "      <td>1</td>\n",
       "      <td>0.000</td>\n",
       "      <td>79.203</td>\n",
       "      <td>90.660</td>\n",
       "      <td>3</td>\n",
       "      <td>0.524</td>\n",
       "      <td>TRACCVS12903D014F8</td>\n",
       "    </tr>\n",
       "  </tbody>\n",
       "</table>\n",
       "<p>5 rows × 31 columns</p>\n",
       "</div>"
      ],
      "text/plain": [
       "   analysis_sample_rate                         audio_md5  danceability  \\\n",
       "0                 22050  a600d65cf157a306be60f26ecbf218f4           0.0   \n",
       "1                 22050  c64d75b0588e5ab552ee94548b50a4fa           0.0   \n",
       "2                 22050  0cadd310865701bb93ced1cd78e8910a           0.0   \n",
       "3                 22050  14be4fc1170152c445b3be7b8d18dfec           0.0   \n",
       "4                 22050  1def5d8298e8cb29a188a5a7c0e9429a           0.0   \n",
       "\n",
       "    duration  end_of_fade_in  energy  idx_bars_confidence  idx_bars_start  \\\n",
       "0  280.21506           0.238     0.0                    0               0   \n",
       "1  191.68608           0.000     0.0                    0               0   \n",
       "2  222.92853           0.000     0.0                    0               0   \n",
       "3  278.38649           0.496     0.0                    0               0   \n",
       "4   89.15546           4.847     0.0                    0               0   \n",
       "\n",
       "   idx_beats_confidence  idx_beats_start  ...  key  key_confidence  loudness  \\\n",
       "0                     0                0  ...    5           0.555    -3.306   \n",
       "1                     0                0  ...    0           0.501   -10.764   \n",
       "2                     0                0  ...    1           0.329    -9.035   \n",
       "3                     0                0  ...    7           0.313   -23.095   \n",
       "4                     0                0  ...    2           0.000   -20.359   \n",
       "\n",
       "   mode  mode_confidence  start_of_fade_out    tempo  time_signature  \\\n",
       "0     1            0.500            275.528  173.205               5   \n",
       "1     1            0.710            184.128  150.955               4   \n",
       "2     1            0.407            216.300   93.056               4   \n",
       "3     1            0.387            278.386  127.113               1   \n",
       "4     1            0.000             79.203   90.660               3   \n",
       "\n",
       "   time_signature_confidence            track_id  \n",
       "0                      0.120  TRACCVZ128F4291A8A  \n",
       "1                      0.600  TRACCMH128F428E4CD  \n",
       "2                      1.000  TRACCSW128F148C7C3  \n",
       "3                      0.446  TRACCXJ128F428F0CF  \n",
       "4                      0.524  TRACCVS12903D014F8  \n",
       "\n",
       "[5 rows x 31 columns]"
      ]
     },
     "execution_count": 4,
     "metadata": {},
     "output_type": "execute_result"
    }
   ],
   "source": [
    "songs.head()"
   ]
  },
  {
   "cell_type": "markdown",
   "metadata": {
    "collapsed": true
   },
   "source": [
    "We should have $31$ columns and $10~000$ rows."
   ]
  },
  {
   "cell_type": "code",
   "execution_count": 5,
   "metadata": {},
   "outputs": [
    {
     "name": "stdout",
     "output_type": "stream",
     "text": [
      "10000\n"
     ]
    }
   ],
   "source": [
    "print(len(songs))"
   ]
  },
  {
   "cell_type": "markdown",
   "metadata": {},
   "source": [
    "Since not all features are important we are going to consider a subset of features (columns) that are relevant for duplicate detection.\n",
    "\n",
    "We will also convert the pandas dataframe into a numpy array so it is easier to work with."
   ]
  },
  {
   "cell_type": "code",
   "execution_count": 6,
   "metadata": {},
   "outputs": [],
   "source": [
    "subset = songs[['duration', 'end_of_fade_in', 'key', 'loudness',\n",
    "                'mode', 'start_of_fade_out', 'tempo', 'time_signature',]]\n",
    "\n",
    "data_matrix = subset.values # returns a list of rows in subset (like a nested list)"
   ]
  },
  {
   "cell_type": "markdown",
   "metadata": {},
   "source": [
    "Additionally we will standardize the data to have zero mean and unit variance as a preprocessing step."
   ]
  },
  {
   "cell_type": "code",
   "execution_count": 7,
   "metadata": {},
   "outputs": [
    {
     "data": {
      "text/plain": [
       "(10000, 8)"
      ]
     },
     "execution_count": 7,
     "metadata": {},
     "output_type": "execute_result"
    }
   ],
   "source": [
    "scaled_data = preprocessing.scale(data_matrix)\n",
    "scaled_data.shape"
   ]
  },
  {
   "cell_type": "markdown",
   "metadata": {},
   "source": [
    "## 2. Implementaion\n",
    "\n",
    "Your task is to implement near duplicate detection using LSH with cosine similarity.\n",
    "More specifically you have to:\n",
    "* Generate duplicate **candidates** based on LSH with $b$ bands and $r$ rows per band\n",
    "* Refine the candidates by computing the exact cosine distance\n",
    "* Report all pairs/duplicates with cosine distance < $d$"
   ]
  },
  {
   "cell_type": "markdown",
   "metadata": {},
   "source": [
    "Implement a function that computes the cosine distance between two rows (instances) in the data."
   ]
  },
  {
   "cell_type": "code",
   "execution_count": 8,
   "metadata": {},
   "outputs": [],
   "source": [
    "def cosine_distance(X, i, j):\n",
    "    \"\"\"Compute cosine distance between two rows of a data matrix.\n",
    "    \n",
    "    Parameters\n",
    "    ----------\n",
    "    X : np.array, shape [N, D]\n",
    "        Data matrix.\n",
    "    i : int\n",
    "        Index of the first row.\n",
    "    j : int\n",
    "        Index of the second row.\n",
    "        \n",
    "    Returns\n",
    "    -------\n",
    "    d : float\n",
    "        Cosine distance between the two rows of the data matrix.\n",
    "        \n",
    "    \"\"\"\n",
    "    cos = np.dot(X[i],X[j]) / (np.linalg.norm(X[i]) * np.linalg.norm(X[j]))\n",
    "    d = 1 - cos\n",
    "    return d"
   ]
  },
  {
   "cell_type": "code",
   "execution_count": 9,
   "metadata": {},
   "outputs": [],
   "source": [
    "def combinations(iterable, r): # finds combination of r\n",
    "\n",
    "    pool = tuple(iterable)\n",
    "    n = len(pool)\n",
    "    if r > n:\n",
    "        return\n",
    "    indices = list(range(r))\n",
    "    yield tuple(pool[i] for i in indices)\n",
    "    while True:\n",
    "        for i in reversed(range(r)):\n",
    "            if indices[i] != i + n - r:\n",
    "                break\n",
    "        else:\n",
    "            return\n",
    "        indices[i] += 1\n",
    "        for j in range(i+1, r):\n",
    "            indices[j] = indices[j-1] + 1\n",
    "        yield tuple(pool[i] for i in indices)"
   ]
  },
  {
   "cell_type": "markdown",
   "metadata": {},
   "source": [
    "Cosine distance between the 5-th and the 28-th instance"
   ]
  },
  {
   "cell_type": "code",
   "execution_count": 10,
   "metadata": {},
   "outputs": [
    {
     "name": "stdout",
     "output_type": "stream",
     "text": [
      "0.7273\n"
     ]
    }
   ],
   "source": [
    "print('{:.4f}'.format(cosine_distance(scaled_data, 5, 28)))"
   ]
  },
  {
   "cell_type": "code",
   "execution_count": 11,
   "metadata": {},
   "outputs": [],
   "source": [
    "def LSH(X, b=8, r=32, d=0.3):\n",
    "    \"\"\"Find candidate duplicate pairs using LSH and refine using exact cosine distance.\n",
    "    \n",
    "    Parameters\n",
    "    ----------\n",
    "    X : np.array shape [N, D]\n",
    "        Data matrix.\n",
    "    b : int\n",
    "        Number of bands.\n",
    "    r : int\n",
    "        Number of rows per band.\n",
    "    d : float\n",
    "        Distance treshold for reporting duplicates.\n",
    "    \n",
    "    Returns\n",
    "    -------\n",
    "    duplicates : {(ID1, ID2, d_{12}), ..., (IDX, IDY, d_{xy})}\n",
    "        A set of tuples indicating the detected duplicates.\n",
    "        Each tuple should have 3 elements:\n",
    "            * ID of the first song\n",
    "            * ID of the second song\n",
    "            * The cosine distance between them\n",
    "    \n",
    "    n_candidates : int\n",
    "        Number of detected candidate pairs.\n",
    "        \n",
    "    \"\"\"\n",
    "    np.random.seed(158)\n",
    "    n_candidates = 0\n",
    "    duplicates = set()\n",
    "\n",
    "    ### YOUR CODE HERE ###\n",
    "    # number of songs\n",
    "    n = len(X[:, 1])\n",
    "    # number of attributes\n",
    "    att = len(X[1, :])\n",
    "    # number of hash functions\n",
    "    m = b*r\n",
    "    # initialize signature matrix\n",
    "    M = np.array(np.zeros((m, n)))\n",
    "    \n",
    "    \n",
    "    # create signature matrix M\n",
    "    # for each hash function\n",
    "    for i in range(m):\n",
    "        # create random vector of 1s and 0s for each random projection\n",
    "        v = np.random.normal(0.0, 1.0, size=att)\n",
    "        # compute hash value for every song\n",
    "        for j in range(n):\n",
    "            song = X[j, :]            \n",
    "            dot = np.dot(v, song)\n",
    "            M[i, j] = np.sign(dot)\n",
    "#     print(M)\n",
    "    \n",
    "    \n",
    "    # find candidates with signature matrix\n",
    "    #hashing within buckets\n",
    "    duplicate_index = set()\n",
    "    # for every band\n",
    "    for i in range(0, b*r, r):\n",
    "        # create new buckets\n",
    "        dictionary = defaultdict(list)\n",
    "        # hash songs into a dict with hash value as key and position in X as value\n",
    "        for j in range(n):\n",
    "            band_signature = tuple(M[i:i+r, j])\n",
    "#             print(M[i:i+r, j])\n",
    "            # hash signature within band\n",
    "            hash_key = hash(band_signature)\n",
    "#             print(hash_key)\n",
    "            \n",
    "            dictionary[hash_key].append(j)\n",
    "            \n",
    "                   \n",
    "        #print(\"band\")\n",
    "        #print(dictionary)\n",
    "        # resulting dictionary = song's matrix index hashed into buckets within band\n",
    "\n",
    "# haven't figured out the rest yet, but there is probably an error before since it doesn;t find candidates\n",
    "        '''\n",
    "        Commented by Omran, was wrritten by Anji\n",
    "        \n",
    "        # what if more than 2 songs similar? hasn't happend yet\n",
    "        if len(dictionary[hash_key]) > 2:\n",
    "            print(\"more than 2 songs similar, what to do?\")\n",
    "             \n",
    "        # check if there is more than one song in one bucket within a band \n",
    "        if len(dictionary[hash_key]) > 1:\n",
    "            print(\"possible candidate found\")\n",
    "            indices = dictionary[hash_key]\n",
    "            # check exact cosine distance \n",
    "            dist = cosine_distance(X, indices[0], indices[1])\n",
    "            if dist <= d:\n",
    "                # add indices to candidate indices\n",
    "                duplicate_index.add(tuple(dictionary[hash_key]))\n",
    "        '''\n",
    "        for hash_key in dictionary.keys():\n",
    "            l = dictionary[hash_key]\n",
    "            if(len(l)>1):\n",
    "                indices =  dictionary[hash_key]\n",
    "                range_ind  = range(len(indices))\n",
    "                combs = combinations(range_ind,2)# Omran: we forgot to check all of the combinations \n",
    "                for c in combs:\n",
    "                    dist = cosine_distance(X, indices[c[0]], indices[c[1]])\n",
    "                    if dist <= d:\n",
    "                        potential_pair = (indices[c[0]], indices[c[1]], dist)\n",
    "                        duplicates.add(potential_pair)\n",
    "                \n",
    "                \n",
    "    n_candidates = len(duplicates)\n",
    "            \n",
    "    \n",
    "    return duplicates, n_candidates"
   ]
  },
  {
   "cell_type": "code",
   "execution_count": 12,
   "metadata": {
    "scrolled": true
   },
   "outputs": [],
   "source": [
    "duplicates, n_candidates = LSH(scaled_data, b=3, r=64, d=0.0003)"
   ]
  },
  {
   "cell_type": "code",
   "execution_count": 13,
   "metadata": {},
   "outputs": [
    {
     "name": "stdout",
     "output_type": "stream",
     "text": [
      "We detected 4 candidates.\n"
     ]
    }
   ],
   "source": [
    "print('We detected {} candidates.'.format(n_candidates))"
   ]
  },
  {
   "cell_type": "markdown",
   "metadata": {},
   "source": [
    "Show the duplicates we have found:"
   ]
  },
  {
   "cell_type": "code",
   "execution_count": 14,
   "metadata": {},
   "outputs": [
    {
     "data": {
      "text/plain": [
       "{(70, 6427, 0.0002997386232330701),\n",
       " (99, 9651, 0.00027760147246047584),\n",
       " (612, 2569, -2.220446049250313e-16),\n",
       " (3088, 5529, 0.0001736466813448967)}"
      ]
     },
     "execution_count": 14,
     "metadata": {},
     "output_type": "execute_result"
    }
   ],
   "source": [
    "duplicates"
   ]
  },
  {
   "cell_type": "markdown",
   "metadata": {},
   "source": [
    "Show the metadata for the songs that were detected as duplicates:"
   ]
  },
  {
   "cell_type": "code",
   "execution_count": 15,
   "metadata": {
    "scrolled": false
   },
   "outputs": [
    {
     "name": "stdout",
     "output_type": "stream",
     "text": [
      "Song ID 1: 99\n",
      "Song ID 2: 9651\n",
      "Distance: 0.000278\n",
      "This Time I Know - Theodis Ealey\n",
      "Would? - Alice In Chains\n",
      "\n",
      "Song ID 1: 70\n",
      "Song ID 2: 6427\n",
      "Distance: 0.000300\n",
      "The Flame - Chimaira\n",
      "Pathfinders - Elvenking\n",
      "\n",
      "Song ID 1: 3088\n",
      "Song ID 2: 5529\n",
      "Distance: 0.000174\n",
      "Quiet Time - Regina Belle\n",
      "Quiet Time - Regina Belle\n",
      "\n",
      "Song ID 1: 612\n",
      "Song ID 2: 2569\n",
      "Distance: -0.000000\n",
      "Mary Had A Little Lamb - Stevie Ray Vaughan And Double Trouble\n",
      "Mary Had A Little Lamb - Stevie Ray Vaughan And Double Trouble\n",
      "\n"
     ]
    }
   ],
   "source": [
    "for i, j, d in duplicates:\n",
    "    print('Song ID 1: {}'.format(i),\n",
    "          'Song ID 2: {}'.format(j),\n",
    "          'Distance: {:.6f}'.format(d),\n",
    "          summary['/metadata/songs'].loc[i][['title', 'artist_name']].str.cat(sep=' - '),\n",
    "          summary['/metadata/songs'].loc[j][['title', 'artist_name']].str.cat(sep=' - '), sep='\\n')\n",
    "    print()"
   ]
  },
  {
   "cell_type": "markdown",
   "metadata": {},
   "source": [
    "## 3. Compare runtime"
   ]
  },
  {
   "cell_type": "markdown",
   "metadata": {},
   "source": [
    "Your task is to implement code for runtime comparison between LSH and the naive nested for loop implementation."
   ]
  },
  {
   "cell_type": "code",
   "execution_count": 16,
   "metadata": {},
   "outputs": [],
   "source": [
    "# naively compute the duplicates using a double for loop\n",
    "def naive_duplicates(X, d = 0.2):\n",
    "    \"\"\"\n",
    "    Parameters\n",
    "    ----------\n",
    "    X : np.array, shape [N, D]\n",
    "        Data matrix.\n",
    "    d : float\n",
    "        Distance treshold for reporting duplicates.\n",
    "    \n",
    "    Returns\n",
    "    -------\n",
    "    duplicates : {(ID1, ID2, d_{12}), ..., (IDX, IDY, d_{xy})}\n",
    "        A set of tuples indicating the detected duplicates.\n",
    "        Each tuple should have 3 elements:\n",
    "            * ID of the first song\n",
    "            * ID of the second song\n",
    "            * The cosine distance between them\n",
    "    \"\"\"\n",
    "    N = X.shape[0]\n",
    "    duplicates = set()\n",
    "    for i in range(N):\n",
    "        for j in range(N):\n",
    "            d_ij = cosine_distance(X, i, j)\n",
    "            if d_ij < d and i != j:\n",
    "                duplicates.add((i, j, d_ij))\n",
    "    return duplicates"
   ]
  },
  {
   "cell_type": "code",
   "execution_count": 22,
   "metadata": {},
   "outputs": [],
   "source": [
    "def runtime_comparison():\n",
    "    \"\"\"\n",
    "    Compare the runtime between LSH and the naive approach.\n",
    "    \n",
    "    Returns\n",
    "    -------\n",
    "    trace : [(n1, lsh_dur, naive_dur), (n2, lsh_dur, naive_dur), ... ]\n",
    "            A list of tuples with execution times for different number of songs.\n",
    "            Each tuple should have 3 elements:\n",
    "                * number of songs considered\n",
    "                * duration of the LSH approach\n",
    "                * duration of the naive approach\n",
    "    \"\"\"\n",
    "    trace = []\n",
    "    for n in np.arange(25, 251, 25):\n",
    "        print('Running comparison for {} songs.'.format(n))\n",
    "        \n",
    "        ### YOUR CODE HERE ###\n",
    "        t = time.time()\n",
    "        LSH(scaled_data[:n],b=3, r=64, d=0.0003)\n",
    "        lsh_dur = time.time() - t\n",
    "        ###\n",
    "        t = time.time()\n",
    "        naive_duplicates(scaled_data[:n], d=0.0003)\n",
    "        naive_dur = time.time() - t\n",
    "        \n",
    "        trace.append((n, lsh_dur, naive_dur))\n",
    "        \n",
    "    return trace"
   ]
  },
  {
   "cell_type": "code",
   "execution_count": 23,
   "metadata": {
    "scrolled": true
   },
   "outputs": [
    {
     "name": "stdout",
     "output_type": "stream",
     "text": [
      "Running comparison for 25 songs.\n",
      "Running comparison for 50 songs.\n",
      "Running comparison for 75 songs.\n",
      "Running comparison for 100 songs.\n",
      "Running comparison for 125 songs.\n",
      "Running comparison for 150 songs.\n",
      "Running comparison for 175 songs.\n",
      "Running comparison for 200 songs.\n",
      "Running comparison for 225 songs.\n",
      "Running comparison for 250 songs.\n"
     ]
    }
   ],
   "source": [
    "trace = runtime_comparison()"
   ]
  },
  {
   "cell_type": "markdown",
   "metadata": {},
   "source": [
    "Plot the differecene in runtime. On the x-axis plot the number of songs processed and on the y-axis plot the runtime in seconds for both approaches. You should obtain a plot similar to the one shown below."
   ]
  },
  {
   "cell_type": "code",
   "execution_count": 24,
   "metadata": {},
   "outputs": [
    {
     "data": {
      "image/png": "[encoded data removed]",
      "text/plain": [
       "<Figure size 432x288 with 1 Axes>"
      ]
     },
     "metadata": {
      "needs_background": "light"
     },
     "output_type": "display_data"
    }
   ],
   "source": [
    "### YOUR PLOTTING CODE HERE ###\n",
    "x = np.arange(25, 251, 25)\n",
    "plt.plot(x, [t[1] for t in trace], label='LSH') \n",
    "plt.plot(x, [t[2] for t in trace], label='Naive') \n",
    "plt.ylabel('Time in seconds')\n",
    "plt.xlabel('Number of songs processed')\n",
    "plt.legend()\n",
    "plt.show()"
   ]
  },
  {
   "cell_type": "code",
   "execution_count": null,
   "metadata": {},
   "outputs": [],
   "source": []
  }
 ],
 "metadata": {
  "kernelspec": {
   "display_name": "Python 3",
   "language": "python",
   "name": "python3"
  },
  "language_info": {
   "codemirror_mode": {
    "name": "ipython",
    "version": 3
   },
   "file_extension": ".py",
   "mimetype": "text/x-python",
   "name": "python",
   "nbconvert_exporter": "python",
   "pygments_lexer": "ipython3",
   "version": "3.7.3"
  }
 },
 "nbformat": 4,
 "nbformat_minor": 2
}
