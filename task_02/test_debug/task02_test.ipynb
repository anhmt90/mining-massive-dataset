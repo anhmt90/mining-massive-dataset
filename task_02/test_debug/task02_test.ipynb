{
 "cells": [
  {
   "cell_type": "code",
   "execution_count": 27,
   "metadata": {},
   "outputs": [
    {
     "name": "stdout",
     "output_type": "stream",
     "text": [
      "a 1-star review: ['This', 'place', 'tops', 'the', 'least', 'favorite', 'list', 'by', 'a', 'long', 'shot']\n",
      "a 5-star review: ['Filet', 'mignon', 'and', 'lobster', 'tail', 'was', 'very', 'good']\n",
      "classification accuracy for 206 test instances: 0.6262135922330098\n",
      "generated 1star review: \n",
      "['refills', 'confirm', 'everywhere', 'pretty', 'tail', 'lunch', 'WAS', 'casual', 'super', 'carnival', 'tried', 'tomatoes', 'Until', 'quickly', 'course']\n",
      "\n",
      "\n",
      "generated 5star review: \n",
      "[\"Tony's\", 'Marvelous', 'Cons', 'deprived', 'figure', 'children', 'gas', 'crispy', 'dinning', 'Jose', 'bucks', 'kalbi', 'shops', 'hit', 'afford']\n"
     ]
    }
   ],
   "source": [
    "%run task_02_hidden_markov_model.ipynb"
   ]
  },
  {
   "cell_type": "code",
   "execution_count": 22,
   "metadata": {
    "scrolled": false
   },
   "outputs": [
    {
     "name": "stdout",
     "output_type": "stream",
     "text": [
      "Alpha\n",
      "[[5.92681810e-05 6.02019010e-05 5.17077935e-05 5.25799509e-05\n",
      "  5.00462293e-05 4.44261883e-05 4.49079206e-05 5.97518579e-05]\n",
      " [2.24438328e-08 2.17175343e-08 2.28582975e-08 2.31950792e-08\n",
      "  2.05292208e-08 2.29272819e-08 2.26440801e-08 2.24668032e-08]\n",
      " [9.48444144e-12 9.13083700e-12 9.63847097e-12 9.93382851e-12\n",
      "  8.72566269e-12 9.65366571e-12 9.56944705e-12 9.43532830e-12]\n",
      " [4.01191977e-15 3.86090663e-15 4.07733582e-15 4.20572902e-15\n",
      "  3.69039868e-15 4.08007523e-15 4.04745748e-15 3.98879518e-15]]\n",
      "Beta\n",
      "[[7.55829535e-11 7.55812508e-11 7.55801698e-11 7.55807682e-11\n",
      "  7.55810518e-11 7.55793403e-11 7.55795464e-11 7.55848104e-11]\n",
      " [1.78778896e-07 1.78783445e-07 1.78776893e-07 1.78775609e-07\n",
      "  1.78780252e-07 1.78779687e-07 1.78778547e-07 1.78784736e-07]\n",
      " [4.22937543e-04 4.22947818e-04 4.22942648e-04 4.22939095e-04\n",
      "  4.22945414e-04 4.22949552e-04 4.22947143e-04 4.22946184e-04]\n",
      " [1.00000000e+00 1.00000000e+00 1.00000000e+00 1.00000000e+00\n",
      "  1.00000000e+00 1.00000000e+00 1.00000000e+00 1.00000000e+00]]\n",
      "log likelihood\n",
      "-31.074209368366915\n"
     ]
    }
   ],
   "source": [
    "a, b, ll = hmm_1.forwards_backwards([\"the\", \"food\", \"is\", \"good\"])\n",
    "print(\"Alpha\")\n",
    "print(a)\n",
    "print(\"Beta\")\n",
    "print(b)\n",
    "print(\"log likelihood\")\n",
    "print(ll)"
   ]
  },
  {
   "cell_type": "code",
   "execution_count": 20,
   "metadata": {},
   "outputs": [
    {
     "name": "stdout",
     "output_type": "stream",
     "text": [
      "[3.19599517e-14 3.19599517e-14 3.19599517e-14 3.19599517e-14]\n",
      "sum_chi\n",
      "[[0.05420039 0.05888    0.06269753 0.04824519 0.04688916 0.05682268\n",
      "  0.04383402 0.03936141]\n",
      " [0.05428913 0.05609577 0.04000431 0.04638909 0.04658985 0.05245424\n",
      "  0.05295488 0.04776689]\n",
      " [0.05202773 0.05445333 0.04193307 0.04266545 0.04473821 0.04590569\n",
      "  0.05324058 0.04013482]\n",
      " [0.0410865  0.03966579 0.05011166 0.03348679 0.04463021 0.04750965\n",
      "  0.04598952 0.02947262]\n",
      " [0.05552438 0.05341746 0.04677558 0.04826939 0.03415571 0.04332955\n",
      "  0.0536285  0.04362175]\n",
      " [0.05560036 0.04699929 0.04185091 0.04387353 0.05900249 0.05414667\n",
      "  0.04877705 0.04441119]\n",
      " [0.05019966 0.04138554 0.03918726 0.04815953 0.05781263 0.05067577\n",
      "  0.04165757 0.04783608]\n",
      " [0.04148451 0.04818489 0.0466847  0.03874747 0.04147518 0.04323292\n",
      "  0.03616    0.03920631]]\n",
      "sum_gamma_x\n",
      "[[0. 0. 0. ... 0. 0. 0.]\n",
      " [0. 0. 0. ... 0. 0. 0.]\n",
      " [0. 0. 0. ... 0. 0. 0.]\n",
      " ...\n",
      " [0. 0. 0. ... 0. 0. 0.]\n",
      " [0. 0. 0. ... 0. 0. 0.]\n",
      " [0. 0. 0. ... 0. 0. 0.]]\n",
      "sum_1\n",
      "[[0.14124823]\n",
      " [0.13037522]\n",
      " [0.12909384]\n",
      " [0.0986299 ]\n",
      " [0.12857425]\n",
      " [0.13199091]\n",
      " [0.1262322 ]\n",
      " [0.11385545]]\n"
     ]
    }
   ],
   "source": [
    "sum_chi, sum_gamma_x, sum_1 = hmm_1.E_step([\"the\", \"food\", \"is\", \"good\"])\n",
    "print(\"sum_chi\")\n",
    "print(sum_chi)\n",
    "print(\"sum_gamma_x\")\n",
    "print(sum_gamma_x)\n",
    "print(\"sum_1\")\n",
    "print(sum_1)"
   ]
  },
  {
   "cell_type": "code",
   "execution_count": 3,
   "metadata": {},
   "outputs": [
    {
     "ename": "TypeError",
     "evalue": "only integer scalar arrays can be converted to a scalar index",
     "output_type": "error",
     "traceback": [
      "\u001b[0;31m---------------------------------------------------------------------------\u001b[0m",
      "\u001b[0;31mTypeError\u001b[0m                                 Traceback (most recent call last)",
      "\u001b[0;32m<ipython-input-3-92a5a152ad38>\u001b[0m in \u001b[0;36m<module>\u001b[0;34m\u001b[0m\n\u001b[0;32m----> 1\u001b[0;31m \u001b[0mhmm_1\u001b[0m\u001b[0;34m.\u001b[0m\u001b[0mgenerate_sentence\u001b[0m\u001b[0;34m(\u001b[0m\u001b[0;36m15\u001b[0m\u001b[0;34m)\u001b[0m\u001b[0;34m\u001b[0m\u001b[0;34m\u001b[0m\u001b[0m\n\u001b[0m",
      "\u001b[0;32m<ipython-input-2-1725c706d9e9>\u001b[0m in \u001b[0;36mgenerate_sentence\u001b[0;34m(self, sentence_length)\u001b[0m\n\u001b[1;32m    181\u001b[0m \u001b[0;34m\u001b[0m\u001b[0m\n\u001b[1;32m    182\u001b[0m         \u001b[0;31m# sample from initial probabilities\u001b[0m\u001b[0;34m\u001b[0m\u001b[0;34m\u001b[0m\u001b[0;34m\u001b[0m\u001b[0m\n\u001b[0;32m--> 183\u001b[0;31m         \u001b[0mz1\u001b[0m \u001b[0;34m=\u001b[0m \u001b[0mnp\u001b[0m\u001b[0;34m.\u001b[0m\u001b[0mrandom\u001b[0m\u001b[0;34m.\u001b[0m\u001b[0mchoice\u001b[0m\u001b[0;34m(\u001b[0m\u001b[0mself\u001b[0m\u001b[0;34m.\u001b[0m\u001b[0mK\u001b[0m\u001b[0;34m,\u001b[0m \u001b[0mpi\u001b[0m\u001b[0;34m)\u001b[0m\u001b[0;34m\u001b[0m\u001b[0;34m\u001b[0m\u001b[0m\n\u001b[0m\u001b[1;32m    184\u001b[0m         \u001b[0mprint\u001b[0m\u001b[0;34m(\u001b[0m\u001b[0mz1\u001b[0m\u001b[0;34m)\u001b[0m\u001b[0;34m\u001b[0m\u001b[0;34m\u001b[0m\u001b[0m\n\u001b[1;32m    185\u001b[0m         \u001b[0mhidden\u001b[0m\u001b[0;34m.\u001b[0m\u001b[0mappend\u001b[0m\u001b[0;34m(\u001b[0m\u001b[0mz1\u001b[0m\u001b[0;34m)\u001b[0m\u001b[0;34m\u001b[0m\u001b[0;34m\u001b[0m\u001b[0m\n",
      "\u001b[0;32mmtrand.pyx\u001b[0m in \u001b[0;36mmtrand.RandomState.choice\u001b[0;34m()\u001b[0m\n",
      "\u001b[0;32mmtrand.pyx\u001b[0m in \u001b[0;36mmtrand.RandomState.randint\u001b[0;34m()\u001b[0m\n",
      "\u001b[0;32mmtrand.pyx\u001b[0m in \u001b[0;36mmtrand.RandomState.randint\u001b[0;34m()\u001b[0m\n",
      "\u001b[0;32mrandint_helpers.pxi\u001b[0m in \u001b[0;36mmtrand._rand_int64\u001b[0;34m()\u001b[0m\n",
      "\u001b[0;31mTypeError\u001b[0m: only integer scalar arrays can be converted to a scalar index"
     ]
    }
   ],
   "source": [
    "hmm_1.generate_sentence(15)"
   ]
  }
 ],
 "metadata": {
  "kernelspec": {
   "display_name": "Python 3",
   "language": "python",
   "name": "python3"
  },
  "language_info": {
   "codemirror_mode": {
    "name": "ipython",
    "version": 3
   },
   "file_extension": ".py",
   "mimetype": "text/x-python",
   "name": "python",
   "nbconvert_exporter": "python",
   "pygments_lexer": "ipython3",
   "version": "3.7.1"
  }
 },
 "nbformat": 4,
 "nbformat_minor": 2
}
